{
 "cells": [
  {
   "cell_type": "markdown",
   "id": "a7447279",
   "metadata": {},
   "source": [
    "# Automação de Sistemas e Processos com Python\n",
    "\n",
    "### Desafio:\n",
    "\n",
    "Para controle de custos, todos os dias, seu chefe pede um relatório com todas as compras de mercadorias da empresa.\n",
    "O seu trabalho, como analista, é enviar um e-mail para ele, assim que começar a trabalhar, com o total gasto, a quantidade de produtos compradas e o preço médio dos produtos.\n",
    "\n",
    "E-mail do seu chefe: para o nosso exercício, coloque um e-mail seu como sendo o e-mail do seu chefe<br>\n",
    "Link de acesso ao sistema da empresa: https://pages.hashtagtreinamentos.com/aula1-intensivao-sistema\n",
    "\n",
    "Para resolver isso, vamos usar o pyautogui, uma biblioteca de automação de comandos do mouse e do teclado"
   ]
  },
  {
   "cell_type": "code",
   "execution_count": 1,
   "id": "75575ff3",
   "metadata": {},
   "outputs": [],
   "source": [
    "import pyautogui\n",
    "import time\n",
    "import pyperclip\n",
    "import pandas as pd"
   ]
  },
  {
   "cell_type": "code",
   "execution_count": 2,
   "id": "cbe816e7",
   "metadata": {},
   "outputs": [
    {
     "ename": "KeyboardInterrupt",
     "evalue": "",
     "output_type": "error",
     "traceback": [
      "\u001b[1;31m---------------------------------------------------------------------------\u001b[0m",
      "\u001b[1;31mKeyboardInterrupt\u001b[0m                         Traceback (most recent call last)",
      "\u001b[1;32m~\\AppData\\Local\\Temp\\ipykernel_6368\\4144587670.py\u001b[0m in \u001b[0;36m<module>\u001b[1;34m\u001b[0m\n\u001b[0;32m      4\u001b[0m \u001b[0mpyautogui\u001b[0m\u001b[1;33m.\u001b[0m\u001b[0mwrite\u001b[0m\u001b[1;33m(\u001b[0m\u001b[1;34m\"https://pages.hashtagtreinamentos.com/aula1-intensivao-sistema\"\u001b[0m\u001b[1;33m)\u001b[0m\u001b[1;33m\u001b[0m\u001b[1;33m\u001b[0m\u001b[0m\n\u001b[0;32m      5\u001b[0m \u001b[0mpyautogui\u001b[0m\u001b[1;33m.\u001b[0m\u001b[0mpress\u001b[0m\u001b[1;33m(\u001b[0m\u001b[1;34m\"enter\"\u001b[0m\u001b[1;33m)\u001b[0m\u001b[1;33m\u001b[0m\u001b[1;33m\u001b[0m\u001b[0m\n\u001b[1;32m----> 6\u001b[1;33m \u001b[0mtime\u001b[0m\u001b[1;33m.\u001b[0m\u001b[0msleep\u001b[0m\u001b[1;33m(\u001b[0m\u001b[1;36m5\u001b[0m\u001b[1;33m)\u001b[0m\u001b[1;33m\u001b[0m\u001b[1;33m\u001b[0m\u001b[0m\n\u001b[0m",
      "\u001b[1;31mKeyboardInterrupt\u001b[0m: "
     ]
    }
   ],
   "source": [
    "#acessar o link da empresa#\n",
    "pyautogui.PAUSE=(1)\n",
    "pyautogui.hotkey(\"ctrl\", \"t\")\n",
    "pyautogui.write(\"https://pages.hashtagtreinamentos.com/aula1-intensivao-sistema\")\n",
    "pyautogui.press(\"enter\")\n",
    "time.sleep(5)"
   ]
  },
  {
   "cell_type": "code",
   "execution_count": null,
   "id": "c8478220",
   "metadata": {},
   "outputs": [],
   "source": [
    "#fazer login#\n",
    "#-clicar no campo login#\n",
    "pyautogui.click(x=810, y=558)\n",
    "#escrever login\n",
    "pyautogui.write('meu-login')\n",
    "#clicar no campo senha\n",
    "pyautogui.click(x=850, y=673)\n",
    "#digitar senha\n",
    "pyautogui.write('minha-senha')\n",
    "#clicar em acessar\n",
    "pyautogui.click(x=927, y=788)\n",
    "time.sleep(5)"
   ]
  },
  {
   "cell_type": "code",
   "execution_count": null,
   "id": "6dca8849",
   "metadata": {},
   "outputs": [],
   "source": [
    "#baixar o arquivo\n",
    "pyautogui.click(x=720, y=535)#arquivo                    \n",
    "pyautogui.click(x=1613, y=308)#tres pontos                \n",
    "pyautogui.click(x=1342, y=907)#fazer download \n",
    "#outro modo                                       \n",
    "#pyautogui.click(x=,y=, button=\"right\")#arquivo    \n",
    "#pyautogui.click(x=,y=)#fazer download "
   ]
  },
  {
   "cell_type": "code",
   "execution_count": null,
   "id": "721622b6",
   "metadata": {},
   "outputs": [],
   "source": [
    "#calcular indicadores\n",
    "tabela = pd.read_csv(r\"C:\\Users\\Mateus\\Downloads\\Compras.csv\", sep=\";\")#arquivo\n",
    "display(tabela)\n",
    "total_gasto = tabela['ValorFinal'].sum()\n",
    "quantidade = tabela['Quantidade'].sum()\n",
    "preço_médio= total_gasto / quantidade\n",
    "print(total_gasto)\n",
    "print(quantidade)\n",
    "print(preço_médio)"
   ]
  },
  {
   "cell_type": "code",
   "execution_count": null,
   "id": "4458e15a",
   "metadata": {},
   "outputs": [],
   "source": [
    "#enviar o email\n",
    "pyautogui.hotkey(\"ctrl\", \"t\")\n",
    "pyautogui.write(\"https://mail.google.com/mail/u/0/#inbox\")\n",
    "pyautogui.press(\"enter\")\n",
    "#-navegador pode precisar carregar-\n",
    "time.sleep(5)\n",
    "#-navegador pode precisar carregar-\n",
    "\n",
    "#clicar no botão escrever\n",
    "pyautogui.click(x=187, y=295)\n",
    "\n",
    "#preencher informações\n",
    "#destinatário\n",
    "pyautogui.write(\"mafemad12@gmail.com\")\n",
    "pyautogui.press(\"tab\")# escolhe destinatário\n",
    "\n",
    "#assunto\n",
    "pyautogui.press(\"tab\") #ou pyautogui.click(x=1143, y=460)\n",
    "pyperclip.copy(\"relatório de vendas\")\n",
    "pyautogui.hotkey(\"ctrl\" , \"v\")\n",
    "\n",
    "#corpo\n",
    "texto=f'''prezados,\n",
    "segue o relatório de compras\n",
    "\n",
    "total gasto:R${total_gasto:,.2f}\n",
    "quantidade:{quantidade:,.2f}\n",
    "preço médio:R4{preço_médio:,.2f}\n",
    "\n",
    "qualquer dúvida entre em contato \n",
    "vlw flw '''\n",
    "\n",
    "pyautogui.press(\"tab\") #ou pyautogui.click(x=1124, y=550)\n",
    "pyperclip.copy(texto)\n",
    "pyautogui.hotkey(\"ctrl\" , \"v\")\n",
    "\n",
    "#enviar\n",
    "pyautogui.hotkey(\"ctrl\" , \"enter\") #ou pyautogui.click(x=1118, y=980)\n",
    "\n",
    "\n",
    "\n"
   ]
  },
  {
   "cell_type": "code",
   "execution_count": null,
   "id": "1805815a",
   "metadata": {
    "scrolled": false
   },
   "outputs": [],
   "source": [
    "#posição do cursor\n",
    "#time.sleep(5)\n",
    "#print(pyautogui.position())"
   ]
  },
  {
   "cell_type": "code",
   "execution_count": null,
   "id": "b0dec6c7",
   "metadata": {},
   "outputs": [],
   "source": []
  }
 ],
 "metadata": {
  "kernelspec": {
   "display_name": "Python 3 (ipykernel)",
   "language": "python",
   "name": "python3"
  },
  "language_info": {
   "codemirror_mode": {
    "name": "ipython",
    "version": 3
   },
   "file_extension": ".py",
   "mimetype": "text/x-python",
   "name": "python",
   "nbconvert_exporter": "python",
   "pygments_lexer": "ipython3",
   "version": "3.9.13"
  }
 },
 "nbformat": 4,
 "nbformat_minor": 5
}
